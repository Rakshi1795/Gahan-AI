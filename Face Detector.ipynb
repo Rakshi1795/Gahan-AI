{
 "cells": [
  {
   "cell_type": "code",
   "execution_count": 1,
   "id": "cfcc73c7",
   "metadata": {},
   "outputs": [],
   "source": [
    "import cv2\n",
    "import numpy as np"
   ]
  },
  {
   "cell_type": "code",
   "execution_count": 2,
   "id": "21ea7d44",
   "metadata": {},
   "outputs": [],
   "source": [
    "def get_face_detector(modelFile=None,\n",
    "                      configFile=None,\n",
    "                      quantized=False):\n",
    "    \"\"\"\n",
    "    Get the face detection caffe model of OpenCV's DNN module\n",
    "    \n",
    "    Parameters\n",
    "    ----------\n",
    "    modelFile : string, optional\n",
    "        Path to model file. The default is \"models/res10_300x300_ssd_iter_140000.caffemodel\" or models/opencv_face_detector_uint8.pb\" based on quantization.\n",
    "    configFile : string, optional\n",
    "        Path to config file. The default is \"models/deploy.prototxt\" or \"models/opencv_face_detector.pbtxt\" based on quantization.\n",
    "    quantization: bool, optional\n",
    "        Determines whether to use quantized tf model or unquantized caffe model. The default is False.\n",
    "    \n",
    "    Returns\n",
    "    -------\n",
    "    model : dnn_Net\n",
    "    \"\"\"\n",
    "    if quantized:\n",
    "        if modelFile == None:\n",
    "            modelFile = \"models/opencv_face_detector_uint8.pb\"\n",
    "        if configFile == None:\n",
    "            configFile = \"models/opencv_face_detector.pbtxt\"\n",
    "        model = cv2.dnn.readNetFromTensorflow(modelFile, configFile)\n",
    "        \n",
    "    else:\n",
    "        if modelFile == None:\n",
    "            modelFile = \"models/res10_300x300_ssd_iter_140000.caffemodel\"\n",
    "        if configFile == None:\n",
    "            configFile = \"models/deploy.prototxt\"\n",
    "        model = cv2.dnn.readNetFromCaffe(configFile, modelFile)\n",
    "    return model"
   ]
  },
  {
   "cell_type": "code",
   "execution_count": 3,
   "id": "b720774b",
   "metadata": {},
   "outputs": [],
   "source": [
    "def find_faces(img, model):\n",
    "    \"\"\"\n",
    "    Find the faces in an image\n",
    "    \n",
    "    Parameters\n",
    "    ----------\n",
    "    img : np.uint8\n",
    "        Image to find faces from\n",
    "    model : dnn_Net\n",
    "        Face detection model\n",
    "    Returns\n",
    "    -------\n",
    "    faces : list\n",
    "        List of coordinates of the faces detected in the image\n",
    "    \"\"\"\n",
    "    h, w = img.shape[:2]\n",
    "    blob = cv2.dnn.blobFromImage(cv2.resize(img, (300, 300)), 1.0,\n",
    "\t(300, 300), (104.0, 177.0, 123.0))\n",
    "    model.setInput(blob)\n",
    "    res = model.forward()\n",
    "    faces = []\n",
    "    for i in range(res.shape[2]):\n",
    "        confidence = res[0, 0, i, 2]\n",
    "        if confidence > 0.5:\n",
    "            box = res[0, 0, i, 3:7] * np.array([w, h, w, h])\n",
    "            (x, y, x1, y1) = box.astype(\"int\")\n",
    "            faces.append([x, y, x1, y1])\n",
    "    return faces"
   ]
  },
  {
   "cell_type": "code",
   "execution_count": 4,
   "id": "3bbad174",
   "metadata": {},
   "outputs": [],
   "source": [
    "def draw_faces(img, faces):\n",
    "    \"\"\"\n",
    "    Draw faces on image\n",
    "    Parameters\n",
    "    ----------\n",
    "    img : np.uint8\n",
    "        Image to draw faces on\n",
    "    faces : List of face coordinates\n",
    "        Coordinates of faces to draw\n",
    "    Returns\n",
    "    -------\n",
    "    None.\n",
    "    \"\"\"\n",
    "    for x, y, x1, y1 in faces:\n",
    "        cv2.rectangle(img, (x, y), (x1, y1), (0, 0, 255), 3)"
   ]
  },
  {
   "cell_type": "code",
   "execution_count": null,
   "id": "b94424ba",
   "metadata": {},
   "outputs": [],
   "source": []
  }
 ],
 "metadata": {
  "kernelspec": {
   "display_name": "Python 3 (ipykernel)",
   "language": "python",
   "name": "python3"
  },
  "language_info": {
   "codemirror_mode": {
    "name": "ipython",
    "version": 3
   },
   "file_extension": ".py",
   "mimetype": "text/x-python",
   "name": "python",
   "nbconvert_exporter": "python",
   "pygments_lexer": "ipython3",
   "version": "3.9.12"
  }
 },
 "nbformat": 4,
 "nbformat_minor": 5
}
